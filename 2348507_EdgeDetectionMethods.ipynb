{
  "nbformat": 4,
  "nbformat_minor": 0,
  "metadata": {
    "colab": {
      "provenance": [],
      "authorship_tag": "ABX9TyM73fo8kCt1YWu81KAIrAzj",
      "include_colab_link": true
    },
    "kernelspec": {
      "name": "python3",
      "display_name": "Python 3"
    },
    "language_info": {
      "name": "python"
    }
  },
  "cells": [
    {
      "cell_type": "markdown",
      "metadata": {
        "id": "view-in-github",
        "colab_type": "text"
      },
      "source": [
        "<a href=\"https://colab.research.google.com/github/badrinarayanan02/Computer-Vision/blob/main/2348507_EdgeDetectionMethods.ipynb\" target=\"_parent\"><img src=\"https://colab.research.google.com/assets/colab-badge.svg\" alt=\"Open In Colab\"/></a>"
      ]
    },
    {
      "cell_type": "markdown",
      "source": [
        "# **Demonstrating Different Edge Detection Methods**\n",
        "\n",
        "\n"
      ],
      "metadata": {
        "id": "AxJZA9OBJGPK"
      }
    },
    {
      "cell_type": "markdown",
      "source": [
        "Demonstrate the following edge detection methods  and interpret the results\n",
        "\n",
        "i) First Order Derivative Methods\n",
        "\n",
        "ii) Second Order Derivative Methods\n",
        "\n",
        "iii) Optimum Edge Detection Method"
      ],
      "metadata": {
        "id": "7Itvmik4JLYS"
      }
    },
    {
      "cell_type": "code",
      "execution_count": null,
      "metadata": {
        "id": "24jTcDSKI_PU"
      },
      "outputs": [],
      "source": []
    }
  ]
}