{
  "nbformat": 4,
  "nbformat_minor": 0,
  "metadata": {
    "colab": {
      "provenance": [],
      "authorship_tag": "ABX9TyOLvxb0e5sq45xRD/+SrPbh",
      "include_colab_link": true
    },
    "kernelspec": {
      "name": "python3",
      "display_name": "Python 3"
    },
    "language_info": {
      "name": "python"
    }
  },
  "cells": [
    {
      "cell_type": "markdown",
      "metadata": {
        "id": "view-in-github",
        "colab_type": "text"
      },
      "source": [
        "<a href=\"https://colab.research.google.com/github/badrinarayanan02/Computer-Vision/blob/main/2348507_FrameExtraction.ipynb\" target=\"_parent\"><img src=\"https://colab.research.google.com/assets/colab-badge.svg\" alt=\"Open In Colab\"/></a>"
      ]
    },
    {
      "cell_type": "markdown",
      "source": [
        "# **Frame Extraction, Display Color Components of the Image**"
      ],
      "metadata": {
        "id": "jYVqwA2t_MNR"
      }
    },
    {
      "cell_type": "markdown",
      "source": [
        "Demonstrating frame extraction from the video and display the color components of the images"
      ],
      "metadata": {
        "id": "1IVgfwwj_Il0"
      }
    },
    {
      "cell_type": "code",
      "execution_count": 1,
      "metadata": {
        "id": "RuFA7RcB--d7"
      },
      "outputs": [],
      "source": [
        "import cv2\n",
        "import matplotlib.pyplot as plt"
      ]
    },
    {
      "cell_type": "code",
      "source": [],
      "metadata": {
        "id": "NxDu_QLXCGJf"
      },
      "execution_count": null,
      "outputs": []
    }
  ]
}