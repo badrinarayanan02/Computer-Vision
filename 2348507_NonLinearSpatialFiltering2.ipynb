{
  "nbformat": 4,
  "nbformat_minor": 0,
  "metadata": {
    "colab": {
      "provenance": [],
      "authorship_tag": "ABX9TyND5xdPX4GTxW9ncFZs1gaX",
      "include_colab_link": true
    },
    "kernelspec": {
      "name": "python3",
      "display_name": "Python 3"
    },
    "language_info": {
      "name": "python"
    }
  },
  "cells": [
    {
      "cell_type": "markdown",
      "metadata": {
        "id": "view-in-github",
        "colab_type": "text"
      },
      "source": [
        "<a href=\"https://colab.research.google.com/github/badrinarayanan02/Computer-Vision/blob/main/2348507_NonLinearSpatialFiltering2.ipynb\" target=\"_parent\"><img src=\"https://colab.research.google.com/assets/colab-badge.svg\" alt=\"Open In Colab\"/></a>"
      ]
    },
    {
      "cell_type": "markdown",
      "source": [
        "# **Non Linear Spatial Filtering**"
      ],
      "metadata": {
        "id": "8Yk4M2QGhRjV"
      }
    },
    {
      "cell_type": "markdown",
      "source": [
        "Implementing Non-Linear Spatial Filtering using Built-in and user defined functions"
      ],
      "metadata": {
        "id": "qwz88cZBgy9G"
      }
    },
    {
      "cell_type": "markdown",
      "source": [
        "Midpoint Filter"
      ],
      "metadata": {
        "id": "NF5qKJy7hw38"
      }
    },
    {
      "cell_type": "code",
      "execution_count": null,
      "metadata": {
        "id": "J0BG75z6gITz"
      },
      "outputs": [],
      "source": []
    }
  ]
}