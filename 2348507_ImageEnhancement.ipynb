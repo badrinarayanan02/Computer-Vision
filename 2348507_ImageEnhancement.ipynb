{
  "nbformat": 4,
  "nbformat_minor": 0,
  "metadata": {
    "colab": {
      "provenance": [],
      "authorship_tag": "ABX9TyOGyxP2IGoQaAYXwzQZDvRN",
      "include_colab_link": true
    },
    "kernelspec": {
      "name": "python3",
      "display_name": "Python 3"
    },
    "language_info": {
      "name": "python"
    }
  },
  "cells": [
    {
      "cell_type": "markdown",
      "metadata": {
        "id": "view-in-github",
        "colab_type": "text"
      },
      "source": [
        "<a href=\"https://colab.research.google.com/github/badrinarayanan02/Computer-Vision/blob/main/2348507_ImageEnhancement.ipynb\" target=\"_parent\"><img src=\"https://colab.research.google.com/assets/colab-badge.svg\" alt=\"Open In Colab\"/></a>"
      ]
    },
    {
      "cell_type": "markdown",
      "source": [
        "Implement various image enhancement techniques using Built-in and user defined functions"
      ],
      "metadata": {
        "id": "LjuG3SZRy_O4"
      }
    },
    {
      "cell_type": "markdown",
      "source": [
        "1. Image Negative\n",
        "2. Gray Level Slicing\n",
        "3. Histogram Equalization"
      ],
      "metadata": {
        "id": "jUD01sEwzCaN"
      }
    },
    {
      "cell_type": "code",
      "execution_count": null,
      "metadata": {
        "id": "Y5khxMeTy0Yh"
      },
      "outputs": [],
      "source": []
    }
  ]
}